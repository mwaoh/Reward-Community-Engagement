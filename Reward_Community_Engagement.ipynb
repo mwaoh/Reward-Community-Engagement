{
  "nbformat": 4,
  "nbformat_minor": 0,
  "metadata": {
    "colab": {
      "provenance": [],
      "authorship_tag": "ABX9TyO61b3WnOGyDJaU3G8ljI6A",
      "include_colab_link": true
    },
    "kernelspec": {
      "name": "python3",
      "display_name": "Python 3"
    },
    "language_info": {
      "name": "python"
    }
  },
  "cells": [
    {
      "cell_type": "markdown",
      "metadata": {
        "id": "view-in-github",
        "colab_type": "text"
      },
      "source": [
        "<a href=\"https://colab.research.google.com/github/mwaoh/Reward-Community-Engagement/blob/main/Reward_Community_Engagement.ipynb\" target=\"_parent\"><img src=\"https://colab.research.google.com/assets/colab-badge.svg\" alt=\"Open In Colab\"/></a>"
      ]
    },
    {
      "cell_type": "markdown",
      "source": [
        "Data Analysis project,Analyzing WhatsApp group chat data to draw insights."
      ],
      "metadata": {
        "id": "ljunNY2DqaGe"
      }
    },
    {
      "cell_type": "code",
      "execution_count": null,
      "metadata": {
        "id": "HIXP_GnoIJ9K"
      },
      "outputs": [],
      "source": [
        "#Importing libraries\n",
        "import re\n",
        "import regex\n",
        "import pandas as pd\n",
        "import numpy as np\n",
        "import emoji\n",
        "import plotly.express as px\n",
        "from collections import Counter\n",
        "import matplotlib.pyplot as plt\n",
        "from os import path\n",
        "from PIL import Image\n",
        "import datetime\n",
        "from wordcloud import WordCloud, STOPWORDS, ImageColorGenerator\n",
        "%matplotlib inline"
      ]
    },
    {
      "cell_type": "markdown",
      "source": [
        "Writing functions to extra data from the whatsapp text file\n"
      ],
      "metadata": {
        "id": "c2iD8Z4Xkkj_"
      }
    },
    {
      "cell_type": "code",
      "source": [
        "def startsWithDateAndTimeAndroid(s):\n",
        "    pattern = '^([0-9]+)(\\/)([0-9]+)(\\/)([0-9]+), ([0-9]+):([0-9]+)[ ]?(AM|PM|am|pm)? -' \n",
        "    result = re.match(pattern, s)\n",
        "    if result:\n",
        "        return True\n",
        "    return False"
      ],
      "metadata": {
        "id": "X0I7nLBDuHIh"
      },
      "execution_count": null,
      "outputs": []
    },
    {
      "cell_type": "markdown",
      "source": [
        "Loading data from WhatsApp"
      ],
      "metadata": {
        "id": "toULqvhVkBfh"
      }
    },
    {
      "cell_type": "markdown",
      "source": [
        "Data preprocessing,Cleaning the data"
      ],
      "metadata": {
        "id": "w_wjIb7_jo6I"
      }
    },
    {
      "cell_type": "markdown",
      "source": [
        "Data Visualization,Exploring the data "
      ],
      "metadata": {
        "id": "8foSuUc-kKIT"
      }
    },
    {
      "cell_type": "markdown",
      "source": [
        "The most user\n"
      ],
      "metadata": {
        "id": "s4CsSlmzkuu4"
      }
    },
    {
      "cell_type": "markdown",
      "source": [
        "Most Topics Discussed"
      ],
      "metadata": {
        "id": "7P77wgGlkzq5"
      }
    },
    {
      "cell_type": "markdown",
      "source": [
        "Conclusion"
      ],
      "metadata": {
        "id": "mS0yz_BUk5ZJ"
      }
    },
    {
      "cell_type": "code",
      "source": [],
      "metadata": {
        "id": "MpfiBAuek7xc"
      },
      "execution_count": null,
      "outputs": []
    }
  ]
}